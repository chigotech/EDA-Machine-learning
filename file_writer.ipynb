{
 "cells": [
  {
   "cell_type": "code",
   "execution_count": 6,
   "id": "4411c92b",
   "metadata": {},
   "outputs": [
    {
     "name": "stdout",
     "output_type": "stream",
     "text": [
      "Output successfully written to output_file\n",
      "Stats successfully written to output_file_high_bp\n",
      "Stats successfully written to output_file_diabetes\n",
      "Is diabetes linked to smoking? False\n",
      "Is diabetes linked to high blood pressure? False\n",
      "No individuals with diabetes found in the dataset.\n"
     ]
    }
   ],
   "source": [
    "\n",
    "from data_loader import load_csv_file, filter_death_data, filter_high_blood_pressure_data, filter_diabetes_data\n",
    "from statistics_calculator import calculate_average, calculate_modal, calculate_median, is_linked\n",
    "from file_writer import write_to_file, write_stats_to_file\n",
    "\n",
    "class HeartFailureAnalyzer:\n",
    "    def __init__(self, file_path):\n",
    "        self.data = load_csv_file(file_path)\n",
    "\n",
    "    def calculate_average_age(self, data):\n",
    "        return calculate_average(data, 'age')\n",
    "\n",
    "    def calculate_modal_age(self, data):\n",
    "        return calculate_modal(data, 'age')\n",
    "\n",
    "    def calculate_median_age(self, data):\n",
    "        return calculate_median(data, 'age')\n",
    "\n",
    "    def calculate_average_time(self, data):\n",
    "        return calculate_average(data, 'time')\n",
    "\n",
    "if __name__ == \"__main__\":\n",
    "    file_path = \"C:/Users/USER/Desktop/data/new_dataset.csv\"\n",
    "    heart_analyzer = HeartFailureAnalyzer(file_path)\n",
    "\n",
    "    death_data = filter_death_data(heart_analyzer.data)\n",
    "    average_age = heart_analyzer.calculate_average_age(death_data)\n",
    "    modal_age = heart_analyzer.calculate_modal_age(death_data)\n",
    "    median_age = heart_analyzer.calculate_median_age(death_data)\n",
    "    average_time = heart_analyzer.calculate_average_time(death_data)\n",
    "    write_to_file(average_time, 'output_file')\n",
    "\n",
    "    high_bp_data = filter_high_blood_pressure_data(heart_analyzer.data)\n",
    "    age_stats_high_bp = {\n",
    "        'median_age': calculate_median(high_bp_data, 'age'),\n",
    "        'average_age': calculate_average(high_bp_data, 'age'),\n",
    "        'modal_age': calculate_modal(high_bp_data, 'age')\n",
    "    }\n",
    "    write_stats_to_file(age_stats_high_bp, 'output_file_high_bp')\n",
    "\n",
    "    diabetes_data = filter_diabetes_data(heart_analyzer.data)\n",
    "    age_stats_diabetes = {\n",
    "        'median_age': calculate_median(diabetes_data, 'age'),\n",
    "        'average_age': calculate_average(diabetes_data, 'age'),\n",
    "        'modal_age': calculate_modal(diabetes_data, 'age')\n",
    "    }\n",
    "    write_stats_to_file(age_stats_diabetes, 'output_file_diabetes')\n",
    "\n",
    "    diabetes_linked_to_smoking, diabetes_linked_to_high_bp = is_linked(heart_analyzer.data, \n",
    "                                                                     lambda x: x['smoking'] == '1', \n",
    "                                                                     lambda x: x['high_blood_pressure'] == '1')\n",
    "    print(\"Is diabetes linked to smoking?\", diabetes_linked_to_smoking)\n",
    "    print(\"Is diabetes linked to high blood pressure?\", diabetes_linked_to_high_bp)\n",
    "\n",
    "    average_serum_sodium_diabetes = calculate_average(diabetes_data, 'serum_sodium')\n",
    "    if average_serum_sodium_diabetes is not None:\n",
    "        print(\"Average Serum Sodium for individuals with diabetes:\", average_serum_sodium_diabetes)\n",
    "    else:\n",
    "        print(\"No individuals with diabetes found in the dataset.\")\n"
   ]
  },
  {
   "cell_type": "code",
   "execution_count": null,
   "id": "ef63253f",
   "metadata": {},
   "outputs": [],
   "source": []
  }
 ],
 "metadata": {
  "kernelspec": {
   "display_name": "Python 3 (ipykernel)",
   "language": "python",
   "name": "python3"
  },
  "language_info": {
   "codemirror_mode": {
    "name": "ipython",
    "version": 3
   },
   "file_extension": ".py",
   "mimetype": "text/x-python",
   "name": "python",
   "nbconvert_exporter": "python",
   "pygments_lexer": "ipython3",
   "version": "3.11.4"
  }
 },
 "nbformat": 4,
 "nbformat_minor": 5
}
