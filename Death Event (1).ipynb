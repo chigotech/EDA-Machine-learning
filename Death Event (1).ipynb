{
 "cells": [
  {
   "cell_type": "code",
   "execution_count": 3,
   "id": "af8098c2",
   "metadata": {},
   "outputs": [
    {
     "name": "stdout",
     "output_type": "stream",
     "text": [
      "Accuracy for Death Event: 0.7166666666666667\n",
      "Confusion Matrix:\n",
      "[[31  4]\n",
      " [13 12]]\n",
      "Precision for Death Event:  0.75\n",
      "Recall for Death Event:  0.48\n",
      "F1 Score for Death Event:  0.5853658536585366\n",
      "\n",
      "Classification Report:\n",
      "              precision    recall  f1-score   support\n",
      "\n",
      "           0       0.70      0.89      0.78        35\n",
      "           1       0.75      0.48      0.59        25\n",
      "\n",
      "    accuracy                           0.72        60\n",
      "   macro avg       0.73      0.68      0.69        60\n",
      "weighted avg       0.72      0.72      0.70        60\n",
      "\n"
     ]
    }
   ],
   "source": [
    "from sklearn.model_selection import train_test_split\n",
    "from sklearn.ensemble import RandomForestClassifier\n",
    "from sklearn.metrics import accuracy_score, classification_report, confusion_matrix, precision_score, recall_score, f1_score\n",
    "import pandas as pd\n",
    "\n",
    "file_path = \"C:/Users/USER/Desktop/data/new_dataset.csv\"\n",
    "\n",
    "# Read the dataset\n",
    "df = pd.read_csv(file_path)\n",
    "\n",
    "# Drop unnecessary features from the dataframe\n",
    "df = df.drop(['diabetes', 'anaemia', 'high_blood_pressure'], axis=1)\n",
    "\n",
    "# Select the feature to be used for prediction\n",
    "X = df.drop('DEATH_EVENT', axis=1)  # Features for training\n",
    "y = df['DEATH_EVENT']  # Target feature for prediction\n",
    "\n",
    "# Split the dataset\n",
    "X_train, X_test, y_death_train, y_death_test = train_test_split(X, y, test_size=0.2, random_state=42)\n",
    "\n",
    "# Calculate class weights\n",
    "class_weights = dict(zip(y_death_train.value_counts().index, len(y_death_train) / (2 * y_death_train.value_counts())))\n",
    "\n",
    "# Initialize and train the model for Death prediction with class weights\n",
    "model_death = RandomForestClassifier(class_weight=class_weights, random_state=42)\n",
    "model_death.fit(X_train, y_death_train)\n",
    "\n",
    "# Make predictions\n",
    "predictions_death = model_death.predict(X_test)\n",
    "\n",
    "# Evaluate the model\n",
    "accuracy_death = accuracy_score(y_death_test, predictions_death)\n",
    "conf_matrix_death = confusion_matrix(y_death_test, predictions_death)\n",
    "precision_death = precision_score(y_death_test, predictions_death)\n",
    "recall_death = recall_score(y_death_test, predictions_death)\n",
    "f1_death = f1_score(y_death_test, predictions_death)\n",
    "\n",
    "print(f\"Accuracy for Death Event: {accuracy_death}\")\n",
    "print(\"Confusion Matrix:\")\n",
    "print(conf_matrix_death)\n",
    "print(\"Precision for Death Event: \", precision_death)\n",
    "print(\"Recall for Death Event: \", recall_death)\n",
    "print(\"F1 Score for Death Event: \", f1_death)\n",
    "print(\"\\nClassification Report:\")\n",
    "print(classification_report(y_death_test, predictions_death))\n"
   ]
  },
  {
   "cell_type": "code",
   "execution_count": 4,
   "id": "0c5b275b",
   "metadata": {},
   "outputs": [
    {
     "name": "stdout",
     "output_type": "stream",
     "text": [
      "Accuracy for Death Event: 0.7333333333333333\n",
      "Confusion Matrix:\n",
      "[[28  7]\n",
      " [ 9 16]]\n",
      "Precision for Death Event:  0.6956521739130435\n",
      "Recall for Death Event:  0.64\n",
      "F1 Score for Death Event:  0.6666666666666666\n",
      "\n",
      "Classification Report:\n",
      "              precision    recall  f1-score   support\n",
      "\n",
      "           0       0.76      0.80      0.78        35\n",
      "           1       0.70      0.64      0.67        25\n",
      "\n",
      "    accuracy                           0.73        60\n",
      "   macro avg       0.73      0.72      0.72        60\n",
      "weighted avg       0.73      0.73      0.73        60\n",
      "\n"
     ]
    }
   ],
   "source": [
    "from sklearn.model_selection import train_test_split\n",
    "from sklearn.linear_model import LogisticRegression\n",
    "from sklearn.metrics import accuracy_score, classification_report, confusion_matrix, precision_score, recall_score, f1_score\n",
    "import pandas as pd\n",
    "\n",
    "file_path = \"C:/Users/USER/Desktop/data/new_dataset.csv\"\n",
    "\n",
    "# Read the dataset\n",
    "df = pd.read_csv(file_path)\n",
    "\n",
    "# Drop unnecessary features from the dataframe\n",
    "df = df.drop(['diabetes', 'anaemia', 'high_blood_pressure'], axis=1)\n",
    "\n",
    "# Select the feature to be used for prediction\n",
    "X = df.drop('DEATH_EVENT', axis=1)  # Features for training\n",
    "y = df['DEATH_EVENT']  # Target feature for prediction\n",
    "\n",
    "# Split the dataset\n",
    "X_train, X_test, y_death_train, y_death_test = train_test_split(X, y, test_size=0.2, random_state=42)\n",
    "\n",
    "# Calculate class weights\n",
    "class_weights = dict(zip(y_death_train.value_counts().index, len(y_death_train) / (2 * y_death_train.value_counts())))\n",
    "\n",
    "# Initialize and train the Logistic Regression model for Death prediction with class weights\n",
    "model_death = LogisticRegression(class_weight=class_weights, random_state=42)\n",
    "model_death.fit(X_train, y_death_train)\n",
    "\n",
    "# Make predictions\n",
    "predictions_death = model_death.predict(X_test)\n",
    "\n",
    "# Evaluate the model\n",
    "accuracy_death = accuracy_score(y_death_test, predictions_death)\n",
    "conf_matrix_death = confusion_matrix(y_death_test, predictions_death)\n",
    "precision_death = precision_score(y_death_test, predictions_death)\n",
    "recall_death = recall_score(y_death_test, predictions_death)\n",
    "f1_death = f1_score(y_death_test, predictions_death)\n",
    "\n",
    "print(f\"Accuracy for Death Event: {accuracy_death}\")\n",
    "print(\"Confusion Matrix:\")\n",
    "print(conf_matrix_death)\n",
    "print(\"Precision for Death Event: \", precision_death)\n",
    "print(\"Recall for Death Event: \", recall_death)\n",
    "print(\"F1 Score for Death Event: \", f1_death)\n",
    "print(\"\\nClassification Report:\")\n",
    "print(classification_report(y_death_test, predictions_death))\n"
   ]
  },
  {
   "cell_type": "code",
   "execution_count": 5,
   "id": "28a7d6c2",
   "metadata": {},
   "outputs": [
    {
     "name": "stdout",
     "output_type": "stream",
     "text": [
      "Accuracy for Death Event: 0.75\n",
      "Confusion Matrix:\n",
      "[[28  7]\n",
      " [ 8 17]]\n",
      "Precision for Death Event:  0.7083333333333334\n",
      "Recall for Death Event:  0.68\n",
      "F1 Score for Death Event:  0.6938775510204083\n",
      "\n",
      "Classification Report:\n",
      "              precision    recall  f1-score   support\n",
      "\n",
      "           0       0.78      0.80      0.79        35\n",
      "           1       0.71      0.68      0.69        25\n",
      "\n",
      "    accuracy                           0.75        60\n",
      "   macro avg       0.74      0.74      0.74        60\n",
      "weighted avg       0.75      0.75      0.75        60\n",
      "\n"
     ]
    }
   ],
   "source": [
    "from sklearn.model_selection import train_test_split\n",
    "from sklearn.tree import DecisionTreeClassifier\n",
    "from sklearn.metrics import accuracy_score, classification_report, confusion_matrix, precision_score, recall_score, f1_score\n",
    "import pandas as pd\n",
    "\n",
    "file_path = \"C:/Users/USER/Desktop/data/new_dataset.csv\"\n",
    "\n",
    "# Read the dataset\n",
    "df = pd.read_csv(file_path)\n",
    "\n",
    "# Drop unnecessary features from the dataframe\n",
    "df = df.drop(['diabetes', 'anaemia', 'high_blood_pressure'], axis=1)\n",
    "\n",
    "# Select the feature to be used for prediction\n",
    "X = df.drop('DEATH_EVENT', axis=1)  # Features for training\n",
    "y = df['DEATH_EVENT']  # Target feature for prediction\n",
    "\n",
    "# Split the dataset\n",
    "X_train, X_test, y_death_train, y_death_test = train_test_split(X, y, test_size=0.2, random_state=42)\n",
    "\n",
    "# Calculate class weights\n",
    "class_weights = dict(zip(y_death_train.value_counts().index, len(y_death_train) / (2 * y_death_train.value_counts())))\n",
    "\n",
    "# Initialize and train the Decision Tree model for Death prediction with class weights\n",
    "model_death = DecisionTreeClassifier(class_weight=class_weights, random_state=42)\n",
    "model_death.fit(X_train, y_death_train)\n",
    "\n",
    "# Make predictions\n",
    "predictions_death = model_death.predict(X_test)\n",
    "\n",
    "# Evaluate the model\n",
    "accuracy_death = accuracy_score(y_death_test, predictions_death)\n",
    "conf_matrix_death = confusion_matrix(y_death_test, predictions_death)\n",
    "precision_death = precision_score(y_death_test, predictions_death)\n",
    "recall_death = recall_score(y_death_test, predictions_death)\n",
    "f1_death = f1_score(y_death_test, predictions_death)\n",
    "\n",
    "print(f\"Accuracy for Death Event: {accuracy_death}\")\n",
    "print(\"Confusion Matrix:\")\n",
    "print(conf_matrix_death)\n",
    "print(\"Precision for Death Event: \", precision_death)\n",
    "print(\"Recall for Death Event: \", recall_death)\n",
    "print(\"F1 Score for Death Event: \", f1_death)\n",
    "print(\"\\nClassification Report:\")\n",
    "print(classification_report(y_death_test, predictions_death))\n"
   ]
  },
  {
   "cell_type": "code",
   "execution_count": null,
   "id": "ac91c415",
   "metadata": {},
   "outputs": [],
   "source": []
  },
  {
   "cell_type": "code",
   "execution_count": 6,
   "id": "287aba0a",
   "metadata": {},
   "outputs": [
    {
     "data": {
      "image/png": "[encoded data removed]",
      "text/plain": [
       "<Figure size 640x480 with 2 Axes>"
      ]
     },
     "metadata": {},
     "output_type": "display_data"
    }
   ],
   "source": [
    "#visualization\n",
    "import seaborn as sns\n",
    "import matplotlib.pyplot as plt\n",
    "\n",
    "# Confusion matrix for the Random Forest model\n",
    "sns.heatmap(conf_matrix_death, annot=True, fmt=\"d\", cmap=\"Blues\")\n",
    "plt.title(\"Confusion Matrix - Random Forest\")\n",
    "plt.show()"
   ]
  },
  {
   "cell_type": "code",
   "execution_count": 7,
   "id": "da365b30",
   "metadata": {},
   "outputs": [
    {
     "data": {
      "image/png": "[encoded data removed]",
      "text/plain": [
       "<Figure size 640x480 with 1 Axes>"
      ]
     },
     "metadata": {},
     "output_type": "display_data"
    }
   ],
   "source": [
    "import pandas as pd\n",
    "\n",
    "# Create a DataFrame for model comparison\n",
    "model_comparison = pd.DataFrame({\n",
    "    'Model': ['Random Forest'],\n",
    "    'Accuracy': [accuracy_death],\n",
    "    'Precision': [precision_death],\n",
    "    'Recall': [recall_death],\n",
    "    'F1 Score': [f1_death]\n",
    "})\n",
    "\n",
    "# Plot a bar chart\n",
    "model_comparison.plot(kind='bar', x='Model', y=['Accuracy', 'Precision', 'Recall', 'F1 Score'], rot=0)\n",
    "plt.title('Model Comparison Metrics')\n",
    "plt.show()"
   ]
  },
  {
   "cell_type": "code",
   "execution_count": null,
   "id": "a97759dd",
   "metadata": {},
   "outputs": [],
   "source": []
  }
 ],
 "metadata": {
  "kernelspec": {
   "display_name": "Python 3 (ipykernel)",
   "language": "python",
   "name": "python3"
  },
  "language_info": {
   "codemirror_mode": {
    "name": "ipython",
    "version": 3
   },
   "file_extension": ".py",
   "mimetype": "text/x-python",
   "name": "python",
   "nbconvert_exporter": "python",
   "pygments_lexer": "ipython3",
   "version": "3.11.4"
  }
 },
 "nbformat": 4,
 "nbformat_minor": 5
}
