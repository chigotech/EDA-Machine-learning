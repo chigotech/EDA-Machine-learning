{
 "cells": [
  {
   "cell_type": "markdown",
   "id": "f14f7d3f",
   "metadata": {},
   "source": [
    "# Using Random Forest for Anaemia Prediction"
   ]
  },
  {
   "cell_type": "code",
   "execution_count": 4,
   "id": "810fcdc0",
   "metadata": {},
   "outputs": [
    {
     "name": "stdout",
     "output_type": "stream",
     "text": [
      "Accuracy for Anaemia (Balanced): 0.6666666666666666\n",
      "Confusion Matrix (Balanced):\n",
      "[[27  8]\n",
      " [12 13]]\n",
      "Precision for Anaemia (Balanced):  0.6190476190476191\n",
      "Recall for Anaemia (Balanced):  0.52\n",
      "F1 Score for Anaemia (Balanced):  0.5652173913043478\n",
      "\n",
      "Classification Report (Balanced):\n",
      "              precision    recall  f1-score   support\n",
      "\n",
      "           0       0.69      0.77      0.73        35\n",
      "           1       0.62      0.52      0.57        25\n",
      "\n",
      "    accuracy                           0.67        60\n",
      "   macro avg       0.66      0.65      0.65        60\n",
      "weighted avg       0.66      0.67      0.66        60\n",
      "\n"
     ]
    }
   ],
   "source": [
    "from sklearn.model_selection import train_test_split\n",
    "from sklearn.ensemble import RandomForestClassifier\n",
    "from sklearn.metrics import accuracy_score, classification_report\n",
    "from sklearn.metrics import confusion_matrix, precision_score, recall_score, f1_score\n",
    "import pandas as pd\n",
    "\n",
    "file_path = \"C:/Users/USER/Desktop/data/new_dataset.csv\"\n",
    "\n",
    "# Read the CSV file into a DataFrame\n",
    "df = pd.read_csv(file_path)\n",
    "\n",
    "\n",
    "df = df.drop(['DEATH_EVENT', 'diabetes'], axis=1)\n",
    "\n",
    "# Select the feature to be used for prediction \n",
    "X = df.drop('anaemia', axis=1)  # Features for training\n",
    "y = df['anaemia']  # Target feature for prediction\n",
    "\n",
    "# Split the dataset into training and testing sets\n",
    "X_train, X_test, y_anemia_train, y_anemia_test = train_test_split(X, y, test_size=0.2, random_state=42)\n",
    "\n",
    "# Initialize and train the model for Anaemia prediction with balanced class weights\n",
    "model_anemia_balanced = RandomForestClassifier(class_weight='balanced', random_state=42)\n",
    "model_anemia_balanced.fit(X_train, y_anemia_train)\n",
    "\n",
    "# Make predictions on the original test set\n",
    "predictions_anemia_balanced = model_anemia_balanced.predict(X_test)\n",
    "\n",
    "# Evaluate the model\n",
    "accuracy_anemia_balanced = accuracy_score(y_anemia_test, predictions_anemia_balanced)\n",
    "conf_matrix_anemia_balanced = confusion_matrix(y_anemia_test, predictions_anemia_balanced)\n",
    "precision_anemia_balanced = precision_score(y_anemia_test, predictions_anemia_balanced)\n",
    "recall_anemia_balanced = recall_score(y_anemia_test, predictions_anemia_balanced)\n",
    "f1_anemia_balanced = f1_score(y_anemia_test, predictions_anemia_balanced)\n",
    "\n",
    "print(f\"Accuracy for Anaemia (Balanced): {accuracy_anemia_balanced}\")\n",
    "print(\"Confusion Matrix (Balanced):\")\n",
    "print(conf_matrix_anemia_balanced)\n",
    "print(\"Precision for Anaemia (Balanced): \", precision_anemia_balanced)\n",
    "print(\"Recall for Anaemia (Balanced): \", recall_anemia_balanced)\n",
    "print(\"F1 Score for Anaemia (Balanced): \", f1_anemia_balanced)\n",
    "print(\"\\nClassification Report (Balanced):\")\n",
    "print(classification_report(y_anemia_test, predictions_anemia_balanced))\n"
   ]
  },
  {
   "cell_type": "code",
   "execution_count": null,
   "id": "2db0c8f3",
   "metadata": {},
   "outputs": [],
   "source": []
  },
  {
   "cell_type": "code",
   "execution_count": null,
   "id": "f5278019",
   "metadata": {},
   "outputs": [],
   "source": [
    "Using Logistic Regression"
   ]
  },
  {
   "cell_type": "code",
   "execution_count": 9,
   "id": "bc54ed86",
   "metadata": {},
   "outputs": [
    {
     "name": "stdout",
     "output_type": "stream",
     "text": [
      "Accuracy for Anaemia (Logistic Regression - Balanced): 0.6833333333333333\n",
      "Confusion Matrix (Logistic Regression - Balanced):\n",
      "[[21 14]\n",
      " [ 5 20]]\n",
      "Precision for Anaemia (Logistic Regression - Balanced):  0.5882352941176471\n",
      "Recall for Anaemia (Logistic Regression - Balanced):  0.8\n",
      "F1 Score for Anaemia (Logistic Regression - Balanced):  0.6779661016949153\n",
      "\n",
      "Classification Report (Logistic Regression - Balanced):\n",
      "              precision    recall  f1-score   support\n",
      "\n",
      "           0       0.81      0.60      0.69        35\n",
      "           1       0.59      0.80      0.68        25\n",
      "\n",
      "    accuracy                           0.68        60\n",
      "   macro avg       0.70      0.70      0.68        60\n",
      "weighted avg       0.72      0.68      0.68        60\n",
      "\n"
     ]
    }
   ],
   "source": [
    "from sklearn.model_selection import train_test_split\n",
    "from sklearn.linear_model import LogisticRegression\n",
    "from sklearn.metrics import accuracy_score, classification_report\n",
    "from sklearn.metrics import confusion_matrix, precision_score, recall_score, f1_score\n",
    "import pandas as pd\n",
    "\n",
    "file_path = \"C:/Users/USER/Desktop/data/new_dataset.csv\"\n",
    "\n",
    "# Read the CSV file into a DataFrame\n",
    "df = pd.read_csv(file_path)\n",
    "\n",
    "# Drop unnecessary features from the dataframe\n",
    "df = df.drop(['DEATH_EVENT', 'diabetes'], axis=1)\n",
    "\n",
    "# Select the feature to be used for prediction \n",
    "X = df.drop('anaemia', axis=1)  # Features for training\n",
    "y = df['anaemia']  # Target feature for prediction\n",
    "\n",
    "# Split the dataset into training and testing sets\n",
    "X_train, X_test, y_anemia_train, y_anemia_test = train_test_split(X, y, test_size=0.2, random_state=42)\n",
    "\n",
    "# Initialize and train the logistic regression model for Anaemia prediction with balanced class weights\n",
    "model_anemia_logreg = LogisticRegression(class_weight='balanced', random_state=42)\n",
    "model_anemia_logreg.fit(X_train, y_anemia_train)\n",
    "\n",
    "# Make predictions on the original test set\n",
    "predictions_anemia_logreg = model_anemia_logreg.predict(X_test)\n",
    "\n",
    "# Evaluate the model\n",
    "accuracy_anemia_logreg = accuracy_score(y_anemia_test, predictions_anemia_logreg)\n",
    "conf_matrix_anemia_logreg = confusion_matrix(y_anemia_test, predictions_anemia_logreg)\n",
    "precision_anemia_logreg = precision_score(y_anemia_test, predictions_anemia_logreg)\n",
    "recall_anemia_logreg = recall_score(y_anemia_test, predictions_anemia_logreg)\n",
    "f1_anemia_logreg = f1_score(y_anemia_test, predictions_anemia_logreg)\n",
    "\n",
    "print(f\"Accuracy for Anaemia (Logistic Regression - Balanced): {accuracy_anemia_logreg}\")\n",
    "print(\"Confusion Matrix (Logistic Regression - Balanced):\")\n",
    "print(conf_matrix_anemia_logreg)\n",
    "print(\"Precision for Anaemia (Logistic Regression - Balanced): \", precision_anemia_logreg)\n",
    "print(\"Recall for Anaemia (Logistic Regression - Balanced): \", recall_anemia_logreg)\n",
    "print(\"F1 Score for Anaemia (Logistic Regression - Balanced): \", f1_anemia_logreg)\n",
    "print(\"\\nClassification Report (Logistic Regression - Balanced):\")\n",
    "print(classification_report(y_anemia_test, predictions_anemia_logreg))\n"
   ]
  },
  {
   "cell_type": "code",
   "execution_count": null,
   "id": "50337be5",
   "metadata": {},
   "outputs": [],
   "source": []
  },
  {
   "cell_type": "markdown",
   "id": "05700a02",
   "metadata": {},
   "source": [
    "# Using Decision Tree for Anaemia"
   ]
  },
  {
   "cell_type": "code",
   "execution_count": 10,
   "id": "60e37f27",
   "metadata": {},
   "outputs": [
    {
     "name": "stdout",
     "output_type": "stream",
     "text": [
      "Accuracy for Anaemia (Decision Tree - Balanced): 0.5333333333333333\n",
      "Confusion Matrix (Decision Tree - Balanced):\n",
      "[[22 13]\n",
      " [15 10]]\n",
      "Precision for Anaemia (Decision Tree - Balanced):  0.43478260869565216\n",
      "Recall for Anaemia (Decision Tree - Balanced):  0.4\n",
      "F1 Score for Anaemia (Decision Tree - Balanced):  0.41666666666666663\n",
      "\n",
      "Classification Report (Decision Tree - Balanced):\n",
      "              precision    recall  f1-score   support\n",
      "\n",
      "           0       0.59      0.63      0.61        35\n",
      "           1       0.43      0.40      0.42        25\n",
      "\n",
      "    accuracy                           0.53        60\n",
      "   macro avg       0.51      0.51      0.51        60\n",
      "weighted avg       0.53      0.53      0.53        60\n",
      "\n"
     ]
    }
   ],
   "source": [
    "from sklearn.model_selection import train_test_split\n",
    "from sklearn.tree import DecisionTreeClassifier\n",
    "from sklearn.metrics import accuracy_score, classification_report\n",
    "from sklearn.metrics import confusion_matrix, precision_score, recall_score, f1_score\n",
    "import pandas as pd\n",
    "\n",
    "file_path = \"C:/Users/USER/Desktop/data/new_dataset.csv\"\n",
    "\n",
    "# Read the CSV file into a DataFrame\n",
    "df = pd.read_csv(file_path)\n",
    "\n",
    "# Drop unnecessary features from the dataframe\n",
    "df = df.drop(['DEATH_EVENT', 'diabetes'], axis=1)\n",
    "\n",
    "# Select the feature to be used for prediction \n",
    "X = df.drop('anaemia', axis=1)  # Features for training\n",
    "y = df['anaemia']  # Target feature for prediction\n",
    "\n",
    "# Split the dataset into training and testing sets\n",
    "X_train, X_test, y_anemia_train, y_anemia_test = train_test_split(X, y, test_size=0.2, random_state=42)\n",
    "\n",
    "# Initialize and train the Decision Tree model for Anaemia prediction with balanced class weights\n",
    "model_anemia_dt = DecisionTreeClassifier(class_weight='balanced', random_state=42)\n",
    "model_anemia_dt.fit(X_train, y_anemia_train)\n",
    "\n",
    "# Make predictions on the original test set\n",
    "predictions_anemia_dt = model_anemia_dt.predict(X_test)\n",
    "\n",
    "# Evaluate the model\n",
    "accuracy_anemia_dt = accuracy_score(y_anemia_test, predictions_anemia_dt)\n",
    "conf_matrix_anemia_dt = confusion_matrix(y_anemia_test, predictions_anemia_dt)\n",
    "precision_anemia_dt = precision_score(y_anemia_test, predictions_anemia_dt)\n",
    "recall_anemia_dt = recall_score(y_anemia_test, predictions_anemia_dt)\n",
    "f1_anemia_dt = f1_score(y_anemia_test, predictions_anemia_dt)\n",
    "\n",
    "print(f\"Accuracy for Anaemia (Decision Tree - Balanced): {accuracy_anemia_dt}\")\n",
    "print(\"Confusion Matrix (Decision Tree - Balanced):\")\n",
    "print(conf_matrix_anemia_dt)\n",
    "print(\"Precision for Anaemia (Decision Tree - Balanced): \", precision_anemia_dt)\n",
    "print(\"Recall for Anaemia (Decision Tree - Balanced): \", recall_anemia_dt)\n",
    "print(\"F1 Score for Anaemia (Decision Tree - Balanced): \", f1_anemia_dt)\n",
    "print(\"\\nClassification Report (Decision Tree - Balanced):\")\n",
    "print(classification_report(y_anemia_test, predictions_anemia_dt))\n"
   ]
  },
  {
   "cell_type": "code",
   "execution_count": null,
   "id": "97256e36",
   "metadata": {},
   "outputs": [],
   "source": []
  },
  {
   "cell_type": "code",
   "execution_count": 13,
   "id": "98e48bbd",
   "metadata": {},
   "outputs": [
    {
     "data": {
      "image/png": "[encoded data removed]",
      "text/plain": [
       "<Figure size 640x480 with 2 Axes>"
      ]
     },
     "metadata": {},
     "output_type": "display_data"
    }
   ],
   "source": [
    "#visualization\n",
    "import seaborn as sns\n",
    "import matplotlib.pyplot as plt\n",
    "\n",
    "# Confusion matrix for the Random Forest model\n",
    "sns.heatmap(conf_matrix_anemia_dt, annot=True, fmt=\"d\", cmap=\"Blues\")\n",
    "plt.title(\"Confusion Matrix - Random Forest\")\n",
    "plt.show()\n"
   ]
  },
  {
   "cell_type": "code",
   "execution_count": 22,
   "id": "45667c0c",
   "metadata": {},
   "outputs": [
    {
     "data": {
      "image/png": "[encoded data removed]",
      "text/plain": [
       "<Figure size 640x480 with 1 Axes>"
      ]
     },
     "metadata": {},
     "output_type": "display_data"
    }
   ],
   "source": [
    "import pandas as pd\n",
    "\n",
    "# Create a DataFrame for model comparison\n",
    "model_comparison = pd.DataFrame({\n",
    "    'Model': ['Random Forest'],\n",
    "    'Accuracy': [accuracy_anemia_dt],\n",
    "    'Precision': [precision_anemia_dt],\n",
    "    'Recall': [recall_anemia_dt],\n",
    "    'F1 Score': [f1_anemia_dt]\n",
    "})\n",
    "\n",
    "# Plot a bar chart\n",
    "model_comparison.plot(kind='bar', x='Model', y=['Accuracy', 'Precision', 'Recall', 'F1 Score'], rot=0)\n",
    "plt.title('Model Comparison Metrics')\n",
    "plt.show()\n"
   ]
  },
  {
   "cell_type": "code",
   "execution_count": null,
   "id": "7cd2420f",
   "metadata": {},
   "outputs": [],
   "source": []
  }
 ],
 "metadata": {
  "kernelspec": {
   "display_name": "Python 3 (ipykernel)",
   "language": "python",
   "name": "python3"
  },
  "language_info": {
   "codemirror_mode": {
    "name": "ipython",
    "version": 3
   },
   "file_extension": ".py",
   "mimetype": "text/x-python",
   "name": "python",
   "nbconvert_exporter": "python",
   "pygments_lexer": "ipython3",
   "version": "3.11.4"
  }
 },
 "nbformat": 4,
 "nbformat_minor": 5
}
